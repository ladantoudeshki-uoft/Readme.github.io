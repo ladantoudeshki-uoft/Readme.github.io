{
  "nbformat": 4,
  "nbformat_minor": 0,
  "metadata": {
    "kernelspec": {
      "display_name": "Python 3",
      "language": "python",
      "name": "python3"
    },
    "language_info": {
      "codemirror_mode": {
        "name": "ipython",
        "version": 3
      },
      "file_extension": ".py",
      "mimetype": "text/x-python",
      "name": "python",
      "nbconvert_exporter": "python",
      "pygments_lexer": "ipython3",
      "version": "3.6.6"
    },
    "toc": {
      "base_numbering": 1,
      "nav_menu": {},
      "number_sections": false,
      "sideBar": true,
      "skip_h1_title": false,
      "title_cell": "Table of Contents",
      "title_sidebar": "Contents",
      "toc_cell": false,
      "toc_position": {},
      "toc_section_display": true,
      "toc_window_display": false
    },
    "colab": {
      "name": "La_A1.ipynb",
      "provenance": [],
      "collapsed_sections": [],
      "include_colab_link": true
    }
  },
  "cells": [
    {
      "cell_type": "markdown",
      "metadata": {
        "id": "view-in-github",
        "colab_type": "text"
      },
      "source": [
        "<a href=\"https://colab.research.google.com/github/ladantoudeshki-uoft/Readme.github.io/blob/master/La_A1.ipynb\" target=\"_parent\"><img src=\"https://colab.research.google.com/assets/colab-badge.svg\" alt=\"Open In Colab\"/></a>"
      ]
    },
    {
      "cell_type": "markdown",
      "metadata": {
        "id": "1q4kTbaGEvJH",
        "colab_type": "text"
      },
      "source": [
        "Before you turn this assignment in, make sure everything runs as expected. \n",
        "\n",
        "You can either **restart the kernel** (in the menu bar, select Kernel $\\rightarrow$ Restart and Clear Output) and then **run all cells** (in the menu bar, select Cell $\\rightarrow$ Run All). \n",
        "Or, you can simply **clear the output for all cells** (in the menu bar, select Cell $\\rightarrow$ All Output $\\rightarrow$ Clear) and then **run all cells** (in the menu bar, select Cell $\\rightarrow$ Run All).\n",
        "\n",
        "---"
      ]
    },
    {
      "cell_type": "code",
      "metadata": {
        "id": "wzEE44csEvJJ",
        "colab_type": "code",
        "colab": {}
      },
      "source": [
        "NAME = \"Ladan\"\n",
        "COLLABORATORS = \"\""
      ],
      "execution_count": 0,
      "outputs": []
    },
    {
      "cell_type": "markdown",
      "metadata": {
        "id": "JWq66r27EvJP",
        "colab_type": "text"
      },
      "source": [
        "# Assignment 1 - Intro to Python\n",
        "\n",
        "(15 points)"
      ]
    },
    {
      "cell_type": "markdown",
      "metadata": {
        "id": "S3qz_gWxEvJQ",
        "colab_type": "text"
      },
      "source": [
        "## Learning Outcomes\n",
        "\n",
        "In this assignment you will practice:\n",
        "\n",
        "- Basic Python syntax\n",
        "- Writing simple Python functions\n",
        "- Working with strings and dictionaries"
      ]
    },
    {
      "cell_type": "markdown",
      "metadata": {
        "id": "Y1osGzSzEvJR",
        "colab_type": "text"
      },
      "source": [
        "## Question #1: Count symbols\n",
        "\n",
        "(3 points)"
      ]
    },
    {
      "cell_type": "markdown",
      "metadata": {
        "id": "CC6r7lfnEvJS",
        "colab_type": "text"
      },
      "source": [
        "In this question, you are given a string `s` which represents a DNA string. The string `s` consists of symbols `'A', 'C', 'G',` and `'T'`. An example of a length 21 DNA string is `\"ATGCTTCAGAAAGGTCTTACG.\"` \n",
        "\n",
        "Your task is to write a code which will count the number of times each of the symbols `'A', 'C', 'G'`, and `'T'` occur in `s`. Your code should generate a **list of 4 integers** and **print it out**."
      ]
    },
    {
      "cell_type": "code",
      "metadata": {
        "id": "u3sOCGD4EvJT",
        "colab_type": "code",
        "outputId": "eeaa0084-cd65-47f8-8afc-9fd5944ef5c1",
        "colab": {
          "base_uri": "https://localhost:8080/",
          "height": 34
        }
      },
      "source": [
        "# Here is the DNA string:\n",
        "\n",
        "s='AGCTTTTCATTCTGACTGCAACGGGCAATATGTCTCTGTGTGGATTAAAAAAAGAGTGTCTGATAGCAGC'\n",
        "s.count(\"A\") \n",
        "s.count(\"C\")\n",
        "s.count(\"G\")\n",
        "s.count(\"T\")\n",
        "\n",
        "num_A=s.count(\"A\")\n",
        "num_C=s.count(\"C\")\n",
        "num_G=s.count(\"G\")\n",
        "num_T=s.count(\"T\")\n",
        "\n",
        "mylist=[num_A,num_C,num_G,num_T]\n",
        "\n",
        "print (mylist)"
      ],
      "execution_count": 0,
      "outputs": [
        {
          "output_type": "stream",
          "text": [
            "[20, 12, 17, 21]\n"
          ],
          "name": "stdout"
        }
      ]
    },
    {
      "cell_type": "markdown",
      "metadata": {
        "id": "bqGbSFIZEvJg",
        "colab_type": "text"
      },
      "source": [
        "## Question #2: Find a substring\n",
        "\n",
        "(4 points)"
      ]
    },
    {
      "cell_type": "markdown",
      "metadata": {
        "id": "z680Z8CGEvJi",
        "colab_type": "text"
      },
      "source": [
        "You are given a dictionary of the US states and their capitals. The keys in the dictionary are states and the values are capital names.\n",
        "\n",
        "Write a code to return a **list of all capitals** that contain the name of a state in their name as a substring.\n",
        "\n",
        "**HINT:** For example, `Indianapolis` as a capital name and `Indiana` as a state name is one of the key/value pairs that your code would find. Your code should add `Indianapolis` to the list. After you found all capitals and added them to the list, print out the list."
      ]
    },
    {
      "cell_type": "code",
      "metadata": {
        "id": "e_N8WSe_EvJk",
        "colab_type": "code",
        "outputId": "6caf878b-255d-46d3-8c7e-4417c5665200",
        "colab": {
          "base_uri": "https://localhost:8080/",
          "height": 867
        }
      },
      "source": [
        "# Run this cell to create a dictionary of states' capitals\n",
        "capitals={\n",
        "    'Alabama': 'Montgomery',\n",
        "    'Alaska': 'Juneau',\n",
        "    'Arizona':'Phoenix',\n",
        "    'Arkansas':'Little Rock',\n",
        "    'California': 'Sacramento',\n",
        "    'Colorado':'Denver',\n",
        "    'Connecticut':'Hartford',\n",
        "    'Delaware':'Dover',\n",
        "    'Florida': 'Tallahassee',\n",
        "    'Georgia': 'Atlanta',\n",
        "    'Hawaii': 'Honolulu',\n",
        "    'Idaho': 'Boise',\n",
        "    'Illinios': 'Springfield',\n",
        "    'Indiana': 'Indianapolis',\n",
        "    'Iowa': 'Des Monies',\n",
        "    'Kansas': 'Topeka',\n",
        "    'Kentucky': 'Frankfort',\n",
        "    'Louisiana': 'Baton Rouge',\n",
        "    'Maine': 'Augusta',\n",
        "    'Maryland': 'Annapolis',\n",
        "    'Massachusetts': 'Boston',\n",
        "    'Michigan': 'Lansing',\n",
        "    'Minnesota': 'St. Paul',\n",
        "    'Mississippi': 'Jackson',\n",
        "    'Missouri': 'Jefferson City',\n",
        "    'Montana': 'Helena',\n",
        "    'Nebraska': 'Lincoln',\n",
        "    'Neveda': 'Carson City',\n",
        "    'New Hampshire': 'Concord',\n",
        "    'New Jersey': 'Trenton',\n",
        "    'New Mexico': 'Santa Fe',\n",
        "    'New York': 'Albany',\n",
        "    'North Carolina': 'Raleigh',\n",
        "    'North Dakota': 'Bismarck',\n",
        "    'Ohio': 'Columbus',\n",
        "    'Oklahoma': 'Oklahoma City',\n",
        "    'Oregon': 'Salem',\n",
        "    'Pennsylvania': 'Harrisburg',\n",
        "    'Rhoda Island': 'Providence',\n",
        "    'South Carolina': 'Columbia',\n",
        "    'South Dakota': 'Pierre',\n",
        "    'Tennessee': 'Nashville',\n",
        "    'Texas': 'Austin',\n",
        "    'Utah': 'Salt Lake City',\n",
        "    'Vermont': 'Montpelier',\n",
        "    'Virginia': 'Richmond',\n",
        "    'Washington': 'Olympia',\n",
        "    'West Virginia': 'Charleston',\n",
        "    'Wisconsin': 'Madison',\n",
        "    'Wyoming': 'Cheyenne'  \n",
        "}\n",
        "capitals"
      ],
      "execution_count": 0,
      "outputs": [
        {
          "output_type": "execute_result",
          "data": {
            "text/plain": [
              "{'Alabama': 'Montgomery',\n",
              " 'Alaska': 'Juneau',\n",
              " 'Arizona': 'Phoenix',\n",
              " 'Arkansas': 'Little Rock',\n",
              " 'California': 'Sacramento',\n",
              " 'Colorado': 'Denver',\n",
              " 'Connecticut': 'Hartford',\n",
              " 'Delaware': 'Dover',\n",
              " 'Florida': 'Tallahassee',\n",
              " 'Georgia': 'Atlanta',\n",
              " 'Hawaii': 'Honolulu',\n",
              " 'Idaho': 'Boise',\n",
              " 'Illinios': 'Springfield',\n",
              " 'Indiana': 'Indianapolis',\n",
              " 'Iowa': 'Des Monies',\n",
              " 'Kansas': 'Topeka',\n",
              " 'Kentucky': 'Frankfort',\n",
              " 'Louisiana': 'Baton Rouge',\n",
              " 'Maine': 'Augusta',\n",
              " 'Maryland': 'Annapolis',\n",
              " 'Massachusetts': 'Boston',\n",
              " 'Michigan': 'Lansing',\n",
              " 'Minnesota': 'St. Paul',\n",
              " 'Mississippi': 'Jackson',\n",
              " 'Missouri': 'Jefferson City',\n",
              " 'Montana': 'Helena',\n",
              " 'Nebraska': 'Lincoln',\n",
              " 'Neveda': 'Carson City',\n",
              " 'New Hampshire': 'Concord',\n",
              " 'New Jersey': 'Trenton',\n",
              " 'New Mexico': 'Santa Fe',\n",
              " 'New York': 'Albany',\n",
              " 'North Carolina': 'Raleigh',\n",
              " 'North Dakota': 'Bismarck',\n",
              " 'Ohio': 'Columbus',\n",
              " 'Oklahoma': 'Oklahoma City',\n",
              " 'Oregon': 'Salem',\n",
              " 'Pennsylvania': 'Harrisburg',\n",
              " 'Rhoda Island': 'Providence',\n",
              " 'South Carolina': 'Columbia',\n",
              " 'South Dakota': 'Pierre',\n",
              " 'Tennessee': 'Nashville',\n",
              " 'Texas': 'Austin',\n",
              " 'Utah': 'Salt Lake City',\n",
              " 'Vermont': 'Montpelier',\n",
              " 'Virginia': 'Richmond',\n",
              " 'Washington': 'Olympia',\n",
              " 'West Virginia': 'Charleston',\n",
              " 'Wisconsin': 'Madison',\n",
              " 'Wyoming': 'Cheyenne'}"
            ]
          },
          "metadata": {
            "tags": []
          },
          "execution_count": 51
        }
      ]
    },
    {
      "cell_type": "code",
      "metadata": {
        "id": "-NN7e-r2EvJq",
        "colab_type": "code",
        "outputId": "869fb078-295d-45c1-f7d6-c1d06074ae9d",
        "colab": {
          "base_uri": "https://localhost:8080/",
          "height": 51
        }
      },
      "source": [
        "mylist=[]\n",
        "for (key, value) in capitals.items():\n",
        "    if key in value:\n",
        "      mylist.append(value)\n",
        "      print (mylist)\n",
        "     \n",
        "      \n",
        "\n",
        "\n",
        "     \n",
        "     \n",
        "      \n",
        "\n"
      ],
      "execution_count": 0,
      "outputs": [
        {
          "output_type": "stream",
          "text": [
            "['Indianapolis']\n",
            "['Indianapolis', 'Oklahoma City']\n"
          ],
          "name": "stdout"
        }
      ]
    },
    {
      "cell_type": "markdown",
      "metadata": {
        "id": "DrX7g3iuEvJ3",
        "colab_type": "text"
      },
      "source": [
        "## Question #3: Is a data point within a rectangle?\n",
        "\n",
        "(4 points)"
      ]
    },
    {
      "cell_type": "markdown",
      "metadata": {
        "id": "GsHCB-m5EvJ5",
        "colab_type": "text"
      },
      "source": [
        "Write a function `isIn()` which returns **boolean `True`** if a point is within a rectangle specified by two sets of coordinates and **boolean `False`** if the point is outside the rectangle. The function should accept three parameters:\n",
        "- the first parameter is a set of coordinates which defines one of the corners of the rectangle, \n",
        "- the second parameter is also a set of coordinates that defines the second corner,\n",
        "- the third set of coordinates defines a single point which is being tested.\n",
        "\n",
        "For example, \n",
        "- `isIn((1,2), (3,4), (1.5, 3.2))` should return `True`, \n",
        "- `isIn((4,3.5), (2,1), (3, 2))` should return `True`, \n",
        "- `isIn((-1,0), (5,5), (6,0))` should return `False`,\n",
        "- `isIn((4,1), (2,4), (2.5,4.5))` should return `False`.\n",
        "\n",
        "Test your function with at least 2 different sets of data points in addition to the examples above.\n",
        "\n",
        "**NOTES:** \n",
        "1. If the point being tested is on the side of the rectangle, consider it to be within the rectangle. For example, if the rectangle is defined as `(1,2), (3,4)` and the point is `(2,2)`, the function should return `True`.\n",
        "2. In this assignment, we assume that the edges of the rectangle are parallel to coordinate axes.\n",
        "3. We also assume that the first parameter does not always represent the left corner of the rectangle and the second parameter is not always the right corner. The function should work correctly either way. Please note the second test condition above where the first parameter, `(4,3.5)`, represents the top-right corner and the second parameter, `(2,1)`, represents left-bottom corner. "
      ]
    },
    {
      "cell_type": "code",
      "metadata": {
        "id": "omEo_krzEvJ6",
        "colab_type": "code",
        "outputId": "02b0dac7-bc83-47a2-e9c1-505f0a2aa881",
        "colab": {
          "base_uri": "https://localhost:8080/",
          "height": 85
        }
      },
      "source": [
        "\n",
        "def isIn(firstCorner=(0,0),secondCorner=(0,0),point=(0,0)):\n",
        "   x1,y1=firstCorner[0],firstCorner[1]\n",
        "   x2,y2=secondCorner[0],secondCorner[1]\n",
        "   xpoint,ypoint=point[0],point[1]\n",
        "   \n",
        "   if (xpoint >= x1 and xpoint <= x2 and ypoint >= y1 and ypoint <= y2) :\n",
        "       return True\n",
        "\n",
        "   elif(xpoint >= x2 and xpoint <= x1 and ypoint >= y2 and ypoint <= y1):\n",
        "       return True\n",
        "\n",
        "   else:\n",
        "       return False\n",
        "print(isIn((1,2),(3,4),(1.5,3.2)))\n",
        "print(isIn((4,3.5),(2,1),(3,2)))\n",
        "print(isIn((-1,0),(5,5),(6,0)))\n",
        "print(isIn((4,1),(2,4),(2.5,4.5)))"
      ],
      "execution_count": 0,
      "outputs": [
        {
          "output_type": "stream",
          "text": [
            "True\n",
            "True\n",
            "False\n",
            "False\n"
          ],
          "name": "stdout"
        }
      ]
    },
    {
      "cell_type": "markdown",
      "metadata": {
        "id": "xKLswMqqEvKM",
        "colab_type": "text"
      },
      "source": [
        "## Question #4: Are all points within a rectangle?\n",
        "\n",
        "(4 points)"
      ]
    },
    {
      "cell_type": "markdown",
      "metadata": {
        "id": "UbUn91qCEvKO",
        "colab_type": "text"
      },
      "source": [
        "Modify your function from the previous question so it takes a list of points rather than a single point and returns **boolean `True`** only if all points in the list are in the rectangle.\n",
        "\n",
        "For example,\n",
        "\n",
        "- `allIn((0,0), (5,5), [(1,1), (0,0), (5,5)])` should return `True`\n",
        "- but `allIn((0,0), (5,5), [(1,1), (0,0), (5,6)])` should return `False`\n",
        "- empty list of points `allIn((0,0), (5,5), [])` should return `False`\n",
        "\n",
        "Use the same assumptions as above about the placement of the points and how rectangle is defined. Make sure that your function returns `False` for empty list of points (no values).\n",
        "\n",
        "Test your function with at least 3 different sets of data points."
      ]
    },
    {
      "cell_type": "code",
      "metadata": {
        "id": "b-uXNVlAEvKU",
        "colab_type": "code",
        "outputId": "bd5bf413-639e-453a-ff7e-243e33de888c",
        "colab": {
          "base_uri": "https://localhost:8080/",
          "height": 69
        }
      },
      "source": [
        "class Point:\n",
        "    def __init__(self,x,y):\n",
        "        self.x = x\n",
        "        self.y = y\n",
        "c=[] \n",
        "def isIn(a, b,c) :\n",
        " result=True \n",
        " for i in range(len(c)):\n",
        "  if c[i].x> a.x and c[i].x<b.x and c[i].y>a.y and c[i].y<b.y:\n",
        "    continue\n",
        "  else:\n",
        "    result=False\n",
        "    break\n",
        " return result\n",
        "\n",
        "def main():\n",
        "   a=Point(1,2)\n",
        "   b=Point(3,4)\n",
        "   c=[Point(1.5,3.2),Point(1.5,3.2),Point(1.5,3.2),Point(1.5,3.2)]\n",
        "   result= isIn(a,b,c)\n",
        "\n",
        "   a=Point(1,2)\n",
        "   b=Point(3,4)\n",
        "   c=[Point(1.5,3.2),Point(1.5,3.2),Point(1.5,3.2),Point(1.5,3.2),Point(1.5,3.2)]\n",
        "   result= isIn(a,b,c)\n",
        "   print(result)\n",
        "\n",
        "   a=Point(-1,0)\n",
        "   b=Point(5,5)\n",
        "   c=[Point(6,0),Point(6,0),Point(6,0),Point(6,0),Point(6,0),Point(6,0)]\n",
        "   result= isIn(a,b,c)\n",
        "   print(result)\n",
        "   print(result)\n",
        "\n",
        "   #to call main function\n",
        "if __name__ == '__main__':\n",
        "    main()"
      ],
      "execution_count": 85,
      "outputs": [
        {
          "output_type": "stream",
          "text": [
            "True\n",
            "False\n",
            "False\n"
          ],
          "name": "stdout"
        }
      ]
    }
  ]
}